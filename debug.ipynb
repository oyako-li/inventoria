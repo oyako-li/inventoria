{
 "cells": [
  {
   "cell_type": "code",
   "execution_count": 23,
   "metadata": {},
   "outputs": [],
   "source": [
    "from models.db import get_db, SessionLocal\n",
    "from models.schemas import Item, Supplier, SupplierItem, Transactions\n",
    "from sqlalchemy import func, desc, case, or_\n",
    "from datetime import datetime"
   ]
  },
  {
   "cell_type": "code",
   "execution_count": 7,
   "metadata": {},
   "outputs": [],
   "source": [
    "db = SessionLocal()"
   ]
  },
  {
   "cell_type": "code",
   "execution_count": 39,
   "metadata": {},
   "outputs": [
    {
     "data": {
      "text/plain": [
       "[('0a6f4b8e', 'tf', 10, datetime.datetime(2025, 6, 22, 19, 11, 14, 398482)),\n",
       " ('b371bc46', 'u', 60, datetime.datetime(2025, 6, 22, 19, 15, 49, 112413))]"
      ]
     },
     "execution_count": 39,
     "metadata": {},
     "output_type": "execute_result"
    }
   ],
   "source": [
    "item = db.query(Item.item_code, Item.item_name, Item.item_quantity, Item.updated_at).all()\n",
    "item"
   ]
  },
  {
   "cell_type": "code",
   "execution_count": 38,
   "metadata": {},
   "outputs": [
    {
     "data": {
      "text/plain": [
       "[('0a6f4b8e', 1, datetime.datetime(2025, 6, 22, 7, 45, 27)),\n",
       " ('0a6f4b8e', 10, datetime.datetime(2025, 6, 22, 8, 15, 30)),\n",
       " ('0a6f4b8e', 18, datetime.datetime(2025, 6, 22, 8, 16, 3)),\n",
       " ('0a6f4b8e', 60, datetime.datetime(2025, 6, 22, 8, 58, 11)),\n",
       " ('0a6f4b8e', 1, datetime.datetime(2025, 6, 22, 18, 58, 47, 368790)),\n",
       " ('b371bc46', 1, datetime.datetime(2025, 6, 22, 19, 14, 57, 797735))]"
      ]
     },
     "execution_count": 38,
     "metadata": {},
     "output_type": "execute_result"
    }
   ],
   "source": [
    "db.query(Transactions.item_code, Transactions.quantity, Transactions.updated_at).where(Transactions.updated_at >= datetime(2025, 6, 22, 7, 0, 0)).all()"
   ]
  },
  {
   "cell_type": "code",
   "execution_count": 41,
   "metadata": {},
   "outputs": [
    {
     "data": {
      "text/plain": [
       "[]"
      ]
     },
     "execution_count": 41,
     "metadata": {},
     "output_type": "execute_result"
    }
   ],
   "source": [
    "last_updated_at = func.max(func.coalesce(Transactions.updated_at, Item.updated_at)).label(\"updated_at\")\n",
    "query = (\n",
    "    db.query(\n",
    "        Item.item_code,\n",
    "        Item.item_name,\n",
    "        (Item.item_quantity + func.sum(func.coalesce(Transactions.quantity, 0))).label(\"current_stock\"),\n",
    "        last_updated_at\n",
    "    )\n",
    "    .outerjoin(Transactions, Item.item_code == Transactions.item_code)\n",
    "    .where(\n",
    "        or_(\n",
    "            Transactions.updated_at == None,\n",
    "            Transactions.updated_at >= Item.updated_at\n",
    "        )\n",
    "    )\n",
    "    .group_by(Item.item_code, Item.item_name)\n",
    "    .order_by(desc(last_updated_at))\n",
    ")\n",
    "inventory = query.all()\n",
    "inventory"
   ]
  },
  {
   "cell_type": "code",
   "execution_count": 43,
   "metadata": {},
   "outputs": [
    {
     "data": {
      "text/plain": [
       "[('b371bc46', 'u', 50, datetime.datetime(2025, 6, 22, 19, 21, 53, 966172)),\n",
       " ('0a6f4b8e', 'tf', 10, datetime.datetime(2025, 6, 22, 19, 11, 14, 398482))]"
      ]
     },
     "execution_count": 43,
     "metadata": {},
     "output_type": "execute_result"
    }
   ],
   "source": [
    "from sqlalchemy import case, func, or_, desc\n",
    "\n",
    "quantity_case = func.sum(\n",
    "    case(\n",
    "        (Transactions.updated_at >= Item.updated_at, Transactions.quantity),\n",
    "        else_=0\n",
    "    )\n",
    ")\n",
    "\n",
    "last_updated_at = func.max(\n",
    "    case(\n",
    "        (Transactions.updated_at >= Item.updated_at, Transactions.updated_at),\n",
    "        else_=Item.updated_at\n",
    "    )\n",
    ").label(\"updated_at\")\n",
    "\n",
    "query = (\n",
    "    db.query(\n",
    "        Item.item_code,\n",
    "        Item.item_name,\n",
    "        (Item.item_quantity + func.coalesce(quantity_case, 0)).label(\"current_stock\"),\n",
    "        last_updated_at\n",
    "    )\n",
    "    .outerjoin(Transactions, Item.item_code == Transactions.item_code)\n",
    "    .group_by(Item.item_code, Item.item_name, Item.item_quantity, Item.updated_at)\n",
    "    .order_by(desc(last_updated_at))\n",
    ")\n",
    "\n",
    "inventory = query.all()\n",
    "inventory"
   ]
  },
  {
   "cell_type": "code",
   "execution_count": null,
   "metadata": {},
   "outputs": [],
   "source": []
  }
 ],
 "metadata": {
  "kernelspec": {
   "display_name": ".venv",
   "language": "python",
   "name": "python3"
  },
  "language_info": {
   "codemirror_mode": {
    "name": "ipython",
    "version": 3
   },
   "file_extension": ".py",
   "mimetype": "text/x-python",
   "name": "python",
   "nbconvert_exporter": "python",
   "pygments_lexer": "ipython3",
   "version": "3.9.23"
  }
 },
 "nbformat": 4,
 "nbformat_minor": 2
}
